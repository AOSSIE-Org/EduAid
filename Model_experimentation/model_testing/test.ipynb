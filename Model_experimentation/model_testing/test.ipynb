{
 "cells": [
  {
   "attachments": {},
   "cell_type": "markdown",
   "metadata": {},
   "source": [
    "## KeyPhrase Detection"
   ]
  },
  {
   "cell_type": "code",
   "execution_count": 1,
   "metadata": {},
   "outputs": [
    {
     "name": "stdout",
     "output_type": "stream",
     "text": [
      "Requirement already satisfied: keyphrase-vectorizers in c:\\users\\prarabdh shukla\\appdata\\local\\programs\\python\\python310\\lib\\site-packages (0.0.11)\n",
      "Requirement already satisfied: psutil>=5.8.0 in c:\\users\\prarabdh shukla\\appdata\\local\\programs\\python\\python310\\lib\\site-packages (from keyphrase-vectorizers) (5.9.5)\n",
      "Requirement already satisfied: nltk>=3.6.1 in c:\\users\\prarabdh shukla\\appdata\\local\\programs\\python\\python310\\lib\\site-packages (from keyphrase-vectorizers) (3.7)\n",
      "Requirement already satisfied: scipy>=1.7.3 in c:\\users\\prarabdh shukla\\appdata\\local\\programs\\python\\python310\\lib\\site-packages (from keyphrase-vectorizers) (1.8.0)\n",
      "Requirement already satisfied: spacy-transformers>=1.1.6 in c:\\users\\prarabdh shukla\\appdata\\local\\programs\\python\\python310\\lib\\site-packages (from keyphrase-vectorizers) (1.2.4)\n",
      "Requirement already satisfied: scikit-learn>=1.0 in c:\\users\\prarabdh shukla\\appdata\\local\\programs\\python\\python310\\lib\\site-packages (from keyphrase-vectorizers) (1.1.0)\n",
      "Requirement already satisfied: numpy>=1.18.5 in c:\\users\\prarabdh shukla\\appdata\\local\\programs\\python\\python310\\lib\\site-packages (from keyphrase-vectorizers) (1.24.3)\n",
      "Requirement already satisfied: spacy>=3.0.1 in c:\\users\\prarabdh shukla\\appdata\\local\\programs\\python\\python310\\lib\\site-packages (from keyphrase-vectorizers) (3.5.3)\n",
      "Requirement already satisfied: regex>=2021.8.3 in c:\\users\\prarabdh shukla\\appdata\\local\\programs\\python\\python310\\lib\\site-packages (from nltk>=3.6.1->keyphrase-vectorizers) (2022.8.17)\n",
      "Requirement already satisfied: joblib in c:\\users\\prarabdh shukla\\appdata\\local\\programs\\python\\python310\\lib\\site-packages (from nltk>=3.6.1->keyphrase-vectorizers) (1.1.0)\n",
      "Requirement already satisfied: tqdm in c:\\users\\prarabdh shukla\\appdata\\local\\programs\\python\\python310\\lib\\site-packages (from nltk>=3.6.1->keyphrase-vectorizers) (4.65.0)\n",
      "Requirement already satisfied: click in c:\\users\\prarabdh shukla\\appdata\\local\\programs\\python\\python310\\lib\\site-packages (from nltk>=3.6.1->keyphrase-vectorizers) (8.0.1)\n",
      "Requirement already satisfied: threadpoolctl>=2.0.0 in c:\\users\\prarabdh shukla\\appdata\\local\\programs\\python\\python310\\lib\\site-packages (from scikit-learn>=1.0->keyphrase-vectorizers) (3.1.0)\n",
      "Requirement already satisfied: preshed<3.1.0,>=3.0.2 in c:\\users\\prarabdh shukla\\appdata\\local\\programs\\python\\python310\\lib\\site-packages (from spacy>=3.0.1->keyphrase-vectorizers) (3.0.8)\n",
      "Requirement already satisfied: murmurhash<1.1.0,>=0.28.0 in c:\\users\\prarabdh shukla\\appdata\\local\\programs\\python\\python310\\lib\\site-packages (from spacy>=3.0.1->keyphrase-vectorizers) (1.0.9)\n",
      "Requirement already satisfied: typer<0.8.0,>=0.3.0 in c:\\users\\prarabdh shukla\\appdata\\local\\programs\\python\\python310\\lib\\site-packages (from spacy>=3.0.1->keyphrase-vectorizers) (0.7.0)\n",
      "Requirement already satisfied: thinc<8.2.0,>=8.1.8 in c:\\users\\prarabdh shukla\\appdata\\local\\programs\\python\\python310\\lib\\site-packages (from spacy>=3.0.1->keyphrase-vectorizers) (8.1.10)\n",
      "Requirement already satisfied: spacy-legacy<3.1.0,>=3.0.11 in c:\\users\\prarabdh shukla\\appdata\\local\\programs\\python\\python310\\lib\\site-packages (from spacy>=3.0.1->keyphrase-vectorizers) (3.0.12)\n",
      "Requirement already satisfied: spacy-loggers<2.0.0,>=1.0.0 in c:\\users\\prarabdh shukla\\appdata\\local\\programs\\python\\python310\\lib\\site-packages (from spacy>=3.0.1->keyphrase-vectorizers) (1.0.4)\n",
      "Requirement already satisfied: packaging>=20.0 in c:\\users\\prarabdh shukla\\appdata\\local\\programs\\python\\python310\\lib\\site-packages (from spacy>=3.0.1->keyphrase-vectorizers) (21.3)\n",
      "Requirement already satisfied: jinja2 in c:\\users\\prarabdh shukla\\appdata\\local\\programs\\python\\python310\\lib\\site-packages (from spacy>=3.0.1->keyphrase-vectorizers) (3.1.2)\n",
      "Requirement already satisfied: catalogue<2.1.0,>=2.0.6 in c:\\users\\prarabdh shukla\\appdata\\local\\programs\\python\\python310\\lib\\site-packages (from spacy>=3.0.1->keyphrase-vectorizers) (2.0.8)\n",
      "Requirement already satisfied: pathy>=0.10.0 in c:\\users\\prarabdh shukla\\appdata\\local\\programs\\python\\python310\\lib\\site-packages (from spacy>=3.0.1->keyphrase-vectorizers) (0.10.1)\n",
      "Requirement already satisfied: requests<3.0.0,>=2.13.0 in c:\\users\\prarabdh shukla\\appdata\\local\\programs\\python\\python310\\lib\\site-packages (from spacy>=3.0.1->keyphrase-vectorizers) (2.28.0)\n",
      "Requirement already satisfied: wasabi<1.2.0,>=0.9.1 in c:\\users\\prarabdh shukla\\appdata\\local\\programs\\python\\python310\\lib\\site-packages (from spacy>=3.0.1->keyphrase-vectorizers) (1.1.1)\n",
      "Requirement already satisfied: pydantic!=1.8,!=1.8.1,<1.11.0,>=1.7.4 in c:\\users\\prarabdh shukla\\appdata\\local\\programs\\python\\python310\\lib\\site-packages (from spacy>=3.0.1->keyphrase-vectorizers) (1.10.8)\n",
      "Requirement already satisfied: cymem<2.1.0,>=2.0.2 in c:\\users\\prarabdh shukla\\appdata\\local\\programs\\python\\python310\\lib\\site-packages (from spacy>=3.0.1->keyphrase-vectorizers) (2.0.7)\n",
      "Requirement already satisfied: setuptools in c:\\users\\prarabdh shukla\\appdata\\local\\programs\\python\\python310\\lib\\site-packages (from spacy>=3.0.1->keyphrase-vectorizers) (58.1.0)\n",
      "Requirement already satisfied: smart-open<7.0.0,>=5.2.1 in c:\\users\\prarabdh shukla\\appdata\\local\\programs\\python\\python310\\lib\\site-packages (from spacy>=3.0.1->keyphrase-vectorizers) (6.3.0)\n",
      "Requirement already satisfied: langcodes<4.0.0,>=3.2.0 in c:\\users\\prarabdh shukla\\appdata\\local\\programs\\python\\python310\\lib\\site-packages (from spacy>=3.0.1->keyphrase-vectorizers) (3.3.0)\n",
      "Requirement already satisfied: srsly<3.0.0,>=2.4.3 in c:\\users\\prarabdh shukla\\appdata\\local\\programs\\python\\python310\\lib\\site-packages (from spacy>=3.0.1->keyphrase-vectorizers) (2.4.6)\n",
      "Requirement already satisfied: torch>=1.8.0 in c:\\users\\prarabdh shukla\\appdata\\local\\programs\\python\\python310\\lib\\site-packages (from spacy-transformers>=1.1.6->keyphrase-vectorizers) (2.0.1)\n",
      "Requirement already satisfied: transformers<4.30.0,>=3.4.0 in c:\\users\\prarabdh shukla\\appdata\\local\\programs\\python\\python310\\lib\\site-packages (from spacy-transformers>=1.1.6->keyphrase-vectorizers) (4.29.2)\n",
      "Requirement already satisfied: spacy-alignments<1.0.0,>=0.7.2 in c:\\users\\prarabdh shukla\\appdata\\local\\programs\\python\\python310\\lib\\site-packages (from spacy-transformers>=1.1.6->keyphrase-vectorizers) (0.9.0)\n",
      "Requirement already satisfied: pyparsing!=3.0.5,>=2.0.2 in c:\\users\\prarabdh shukla\\appdata\\local\\programs\\python\\python310\\lib\\site-packages (from packaging>=20.0->spacy>=3.0.1->keyphrase-vectorizers) (3.0.7)\n",
      "Requirement already satisfied: typing-extensions>=4.2.0 in c:\\users\\prarabdh shukla\\appdata\\local\\programs\\python\\python310\\lib\\site-packages (from pydantic!=1.8,!=1.8.1,<1.11.0,>=1.7.4->spacy>=3.0.1->keyphrase-vectorizers) (4.6.1)\n",
      "Requirement already satisfied: idna<4,>=2.5 in c:\\users\\prarabdh shukla\\appdata\\local\\programs\\python\\python310\\lib\\site-packages (from requests<3.0.0,>=2.13.0->spacy>=3.0.1->keyphrase-vectorizers) (3.3)\n",
      "Requirement already satisfied: urllib3<1.27,>=1.21.1 in c:\\users\\prarabdh shukla\\appdata\\local\\programs\\python\\python310\\lib\\site-packages (from requests<3.0.0,>=2.13.0->spacy>=3.0.1->keyphrase-vectorizers) (1.26.9)\n",
      "Requirement already satisfied: certifi>=2017.4.17 in c:\\users\\prarabdh shukla\\appdata\\local\\programs\\python\\python310\\lib\\site-packages (from requests<3.0.0,>=2.13.0->spacy>=3.0.1->keyphrase-vectorizers) (2022.6.15)\n",
      "Requirement already satisfied: charset-normalizer~=2.0.0 in c:\\users\\prarabdh shukla\\appdata\\local\\programs\\python\\python310\\lib\\site-packages (from requests<3.0.0,>=2.13.0->spacy>=3.0.1->keyphrase-vectorizers) (2.0.12)\n",
      "Requirement already satisfied: confection<1.0.0,>=0.0.1 in c:\\users\\prarabdh shukla\\appdata\\local\\programs\\python\\python310\\lib\\site-packages (from thinc<8.2.0,>=8.1.8->spacy>=3.0.1->keyphrase-vectorizers) (0.0.4)\n",
      "Requirement already satisfied: blis<0.8.0,>=0.7.8 in c:\\users\\prarabdh shukla\\appdata\\local\\programs\\python\\python310\\lib\\site-packages (from thinc<8.2.0,>=8.1.8->spacy>=3.0.1->keyphrase-vectorizers) (0.7.9)\n",
      "Requirement already satisfied: sympy in c:\\users\\prarabdh shukla\\appdata\\local\\programs\\python\\python310\\lib\\site-packages (from torch>=1.8.0->spacy-transformers>=1.1.6->keyphrase-vectorizers) (1.11.1)\n",
      "Requirement already satisfied: filelock in c:\\users\\prarabdh shukla\\appdata\\local\\programs\\python\\python310\\lib\\site-packages (from torch>=1.8.0->spacy-transformers>=1.1.6->keyphrase-vectorizers) (3.12.0)\n",
      "Requirement already satisfied: networkx in c:\\users\\prarabdh shukla\\appdata\\local\\programs\\python\\python310\\lib\\site-packages (from torch>=1.8.0->spacy-transformers>=1.1.6->keyphrase-vectorizers) (2.6.3)\n",
      "Requirement already satisfied: colorama in c:\\users\\prarabdh shukla\\appdata\\local\\programs\\python\\python310\\lib\\site-packages (from tqdm->nltk>=3.6.1->keyphrase-vectorizers) (0.4.6)\n",
      "Requirement already satisfied: pyyaml>=5.1 in c:\\users\\prarabdh shukla\\appdata\\local\\programs\\python\\python310\\lib\\site-packages (from transformers<4.30.0,>=3.4.0->spacy-transformers>=1.1.6->keyphrase-vectorizers) (6.0)\n",
      "Requirement already satisfied: tokenizers!=0.11.3,<0.14,>=0.11.1 in c:\\users\\prarabdh shukla\\appdata\\local\\programs\\python\\python310\\lib\\site-packages (from transformers<4.30.0,>=3.4.0->spacy-transformers>=1.1.6->keyphrase-vectorizers) (0.13.3)\n",
      "Requirement already satisfied: huggingface-hub<1.0,>=0.14.1 in c:\\users\\prarabdh shukla\\appdata\\local\\programs\\python\\python310\\lib\\site-packages (from transformers<4.30.0,>=3.4.0->spacy-transformers>=1.1.6->keyphrase-vectorizers) (0.14.1)\n",
      "Requirement already satisfied: MarkupSafe>=2.0 in c:\\users\\prarabdh shukla\\appdata\\local\\programs\\python\\python310\\lib\\site-packages (from jinja2->spacy>=3.0.1->keyphrase-vectorizers) (2.1.1)\n",
      "Requirement already satisfied: fsspec in c:\\users\\prarabdh shukla\\appdata\\local\\programs\\python\\python310\\lib\\site-packages (from huggingface-hub<1.0,>=0.14.1->transformers<4.30.0,>=3.4.0->spacy-transformers>=1.1.6->keyphrase-vectorizers) (2023.5.0)\n",
      "Requirement already satisfied: mpmath>=0.19 in c:\\users\\prarabdh shukla\\appdata\\local\\programs\\python\\python310\\lib\\site-packages (from sympy->torch>=1.8.0->spacy-transformers>=1.1.6->keyphrase-vectorizers) (1.2.1)\n"
     ]
    },
    {
     "name": "stderr",
     "output_type": "stream",
     "text": [
      "\n",
      "[notice] A new release of pip available: 22.3.1 -> 23.1.2\n",
      "[notice] To update, run: python.exe -m pip install --upgrade pip\n"
     ]
    }
   ],
   "source": [
    "!pip install keyphrase-vectorizers"
   ]
  },
  {
   "cell_type": "code",
   "execution_count": 2,
   "metadata": {},
   "outputs": [
    {
     "name": "stdout",
     "output_type": "stream",
     "text": [
      "Requirement already satisfied: keybert in c:\\users\\prarabdh shukla\\appdata\\local\\programs\\python\\python310\\lib\\site-packages (0.7.0)\n",
      "Requirement already satisfied: sentence-transformers>=0.3.8 in c:\\users\\prarabdh shukla\\appdata\\local\\programs\\python\\python310\\lib\\site-packages (from keybert) (2.2.2)\n",
      "Requirement already satisfied: numpy>=1.18.5 in c:\\users\\prarabdh shukla\\appdata\\local\\programs\\python\\python310\\lib\\site-packages (from keybert) (1.24.3)\n",
      "Requirement already satisfied: scikit-learn>=0.22.2 in c:\\users\\prarabdh shukla\\appdata\\local\\programs\\python\\python310\\lib\\site-packages (from keybert) (1.1.0)\n",
      "Requirement already satisfied: rich>=10.4.0 in c:\\users\\prarabdh shukla\\appdata\\local\\programs\\python\\python310\\lib\\site-packages (from keybert) (13.3.5)\n",
      "Requirement already satisfied: pygments<3.0.0,>=2.13.0 in c:\\users\\prarabdh shukla\\appdata\\local\\programs\\python\\python310\\lib\\site-packages (from rich>=10.4.0->keybert) (2.15.1)\n",
      "Requirement already satisfied: markdown-it-py<3.0.0,>=2.2.0 in c:\\users\\prarabdh shukla\\appdata\\local\\programs\\python\\python310\\lib\\site-packages (from rich>=10.4.0->keybert) (2.2.0)\n",
      "Requirement already satisfied: joblib>=1.0.0 in c:\\users\\prarabdh shukla\\appdata\\local\\programs\\python\\python310\\lib\\site-packages (from scikit-learn>=0.22.2->keybert) (1.1.0)\n",
      "Requirement already satisfied: threadpoolctl>=2.0.0 in c:\\users\\prarabdh shukla\\appdata\\local\\programs\\python\\python310\\lib\\site-packages (from scikit-learn>=0.22.2->keybert) (3.1.0)\n",
      "Requirement already satisfied: scipy>=1.3.2 in c:\\users\\prarabdh shukla\\appdata\\local\\programs\\python\\python310\\lib\\site-packages (from scikit-learn>=0.22.2->keybert) (1.8.0)\n",
      "Requirement already satisfied: huggingface-hub>=0.4.0 in c:\\users\\prarabdh shukla\\appdata\\local\\programs\\python\\python310\\lib\\site-packages (from sentence-transformers>=0.3.8->keybert) (0.14.1)\n",
      "Requirement already satisfied: transformers<5.0.0,>=4.6.0 in c:\\users\\prarabdh shukla\\appdata\\local\\programs\\python\\python310\\lib\\site-packages (from sentence-transformers>=0.3.8->keybert) (4.29.2)\n",
      "Requirement already satisfied: sentencepiece in c:\\users\\prarabdh shukla\\appdata\\local\\programs\\python\\python310\\lib\\site-packages (from sentence-transformers>=0.3.8->keybert) (0.1.99)\n",
      "Requirement already satisfied: nltk in c:\\users\\prarabdh shukla\\appdata\\local\\programs\\python\\python310\\lib\\site-packages (from sentence-transformers>=0.3.8->keybert) (3.7)\n",
      "Requirement already satisfied: torchvision in c:\\users\\prarabdh shukla\\appdata\\local\\programs\\python\\python310\\lib\\site-packages (from sentence-transformers>=0.3.8->keybert) (0.15.2)\n",
      "Requirement already satisfied: tqdm in c:\\users\\prarabdh shukla\\appdata\\local\\programs\\python\\python310\\lib\\site-packages (from sentence-transformers>=0.3.8->keybert) (4.65.0)\n",
      "Requirement already satisfied: torch>=1.6.0 in c:\\users\\prarabdh shukla\\appdata\\local\\programs\\python\\python310\\lib\\site-packages (from sentence-transformers>=0.3.8->keybert) (2.0.1)\n",
      "Requirement already satisfied: requests in c:\\users\\prarabdh shukla\\appdata\\local\\programs\\python\\python310\\lib\\site-packages (from huggingface-hub>=0.4.0->sentence-transformers>=0.3.8->keybert) (2.28.0)\n",
      "Requirement already satisfied: packaging>=20.9 in c:\\users\\prarabdh shukla\\appdata\\local\\programs\\python\\python310\\lib\\site-packages (from huggingface-hub>=0.4.0->sentence-transformers>=0.3.8->keybert) (21.3)\n",
      "Requirement already satisfied: typing-extensions>=3.7.4.3 in c:\\users\\prarabdh shukla\\appdata\\local\\programs\\python\\python310\\lib\\site-packages (from huggingface-hub>=0.4.0->sentence-transformers>=0.3.8->keybert) (4.6.1)\n",
      "Requirement already satisfied: pyyaml>=5.1 in c:\\users\\prarabdh shukla\\appdata\\local\\programs\\python\\python310\\lib\\site-packages (from huggingface-hub>=0.4.0->sentence-transformers>=0.3.8->keybert) (6.0)\n",
      "Requirement already satisfied: fsspec in c:\\users\\prarabdh shukla\\appdata\\local\\programs\\python\\python310\\lib\\site-packages (from huggingface-hub>=0.4.0->sentence-transformers>=0.3.8->keybert) (2023.5.0)\n",
      "Requirement already satisfied: filelock in c:\\users\\prarabdh shukla\\appdata\\local\\programs\\python\\python310\\lib\\site-packages (from huggingface-hub>=0.4.0->sentence-transformers>=0.3.8->keybert) (3.12.0)\n",
      "Requirement already satisfied: mdurl~=0.1 in c:\\users\\prarabdh shukla\\appdata\\local\\programs\\python\\python310\\lib\\site-packages (from markdown-it-py<3.0.0,>=2.2.0->rich>=10.4.0->keybert) (0.1.2)\n",
      "Requirement already satisfied: jinja2 in c:\\users\\prarabdh shukla\\appdata\\local\\programs\\python\\python310\\lib\\site-packages (from torch>=1.6.0->sentence-transformers>=0.3.8->keybert) (3.1.2)\n",
      "Requirement already satisfied: sympy in c:\\users\\prarabdh shukla\\appdata\\local\\programs\\python\\python310\\lib\\site-packages (from torch>=1.6.0->sentence-transformers>=0.3.8->keybert) (1.11.1)\n",
      "Requirement already satisfied: networkx in c:\\users\\prarabdh shukla\\appdata\\local\\programs\\python\\python310\\lib\\site-packages (from torch>=1.6.0->sentence-transformers>=0.3.8->keybert) (2.6.3)\n",
      "Requirement already satisfied: colorama in c:\\users\\prarabdh shukla\\appdata\\local\\programs\\python\\python310\\lib\\site-packages (from tqdm->sentence-transformers>=0.3.8->keybert) (0.4.6)\n",
      "Requirement already satisfied: tokenizers!=0.11.3,<0.14,>=0.11.1 in c:\\users\\prarabdh shukla\\appdata\\local\\programs\\python\\python310\\lib\\site-packages (from transformers<5.0.0,>=4.6.0->sentence-transformers>=0.3.8->keybert) (0.13.3)\n",
      "Requirement already satisfied: regex!=2019.12.17 in c:\\users\\prarabdh shukla\\appdata\\local\\programs\\python\\python310\\lib\\site-packages (from transformers<5.0.0,>=4.6.0->sentence-transformers>=0.3.8->keybert) (2022.8.17)\n",
      "Requirement already satisfied: click in c:\\users\\prarabdh shukla\\appdata\\local\\programs\\python\\python310\\lib\\site-packages (from nltk->sentence-transformers>=0.3.8->keybert) (8.0.1)\n",
      "Requirement already satisfied: pillow!=8.3.*,>=5.3.0 in c:\\users\\prarabdh shukla\\appdata\\local\\programs\\python\\python310\\lib\\site-packages (from torchvision->sentence-transformers>=0.3.8->keybert) (9.0.1)"
     ]
    },
    {
     "name": "stderr",
     "output_type": "stream",
     "text": [
      "\n",
      "[notice] A new release of pip available: 22.3.1 -> 23.1.2\n",
      "[notice] To update, run: python.exe -m pip install --upgrade pip\n"
     ]
    },
    {
     "name": "stdout",
     "output_type": "stream",
     "text": [
      "\n",
      "Requirement already satisfied: pyparsing!=3.0.5,>=2.0.2 in c:\\users\\prarabdh shukla\\appdata\\local\\programs\\python\\python310\\lib\\site-packages (from packaging>=20.9->huggingface-hub>=0.4.0->sentence-transformers>=0.3.8->keybert) (3.0.7)\n",
      "Requirement already satisfied: MarkupSafe>=2.0 in c:\\users\\prarabdh shukla\\appdata\\local\\programs\\python\\python310\\lib\\site-packages (from jinja2->torch>=1.6.0->sentence-transformers>=0.3.8->keybert) (2.1.1)\n",
      "Requirement already satisfied: charset-normalizer~=2.0.0 in c:\\users\\prarabdh shukla\\appdata\\local\\programs\\python\\python310\\lib\\site-packages (from requests->huggingface-hub>=0.4.0->sentence-transformers>=0.3.8->keybert) (2.0.12)\n",
      "Requirement already satisfied: certifi>=2017.4.17 in c:\\users\\prarabdh shukla\\appdata\\local\\programs\\python\\python310\\lib\\site-packages (from requests->huggingface-hub>=0.4.0->sentence-transformers>=0.3.8->keybert) (2022.6.15)\n",
      "Requirement already satisfied: urllib3<1.27,>=1.21.1 in c:\\users\\prarabdh shukla\\appdata\\local\\programs\\python\\python310\\lib\\site-packages (from requests->huggingface-hub>=0.4.0->sentence-transformers>=0.3.8->keybert) (1.26.9)\n",
      "Requirement already satisfied: idna<4,>=2.5 in c:\\users\\prarabdh shukla\\appdata\\local\\programs\\python\\python310\\lib\\site-packages (from requests->huggingface-hub>=0.4.0->sentence-transformers>=0.3.8->keybert) (3.3)\n",
      "Requirement already satisfied: mpmath>=0.19 in c:\\users\\prarabdh shukla\\appdata\\local\\programs\\python\\python310\\lib\\site-packages (from sympy->torch>=1.6.0->sentence-transformers>=0.3.8->keybert) (1.2.1)\n"
     ]
    }
   ],
   "source": [
    "!pip install keybert"
   ]
  },
  {
   "cell_type": "code",
   "execution_count": 3,
   "metadata": {},
   "outputs": [],
   "source": [
    "docs=[\n",
    "    \"\"\"\n",
    "Mitochondria are double-membraned organelles found in most eukaryotic cells. They are often referred to as the \"powerhouses\" of the cell because they generate most of the cell's energy in the form of adenosine triphosphate (ATP). Mitochondria play a crucial role in cellular respiration, which is the process by which cells convert nutrients into usable energy.\n",
    "The structure of mitochondria consists of an outer membrane, which surrounds the entire organelle, and an inner membrane that is highly folded to form structures called cristae. The inner membrane encloses the mitochondrial matrix, which contains enzymes and DNA molecules necessary for various metabolic reactions.\n",
    "One of the primary functions of mitochondria is to carry out aerobic respiration, a process that uses oxygen to break down glucose and other organic molecules, releasing energy in the form of ATP. This process occurs in the inner membrane of the mitochondria, specifically in the electron transport chain and the citric acid cycle.\n",
    "Apart from energy production, mitochondria have other important roles in the cell. They are involved in the regulation of cellular metabolism, calcium signaling, and apoptosis (programmed cell death). Mitochondria also contain their own DNA, known as mitochondrial DNA (mtDNA), which is separate from the nuclear DNA found in the cell's nucleus.\n",
    "\n",
    "It's worth noting that while mitochondria are present in most eukaryotic cells, certain cell types may have varying numbers of mitochondria depending on their energy requirements. For example, muscle cells and liver cells often contain a higher number of mitochondria due to their high energy demands.\n",
    "\n",
    "\"\"\"\n",
    "]"
   ]
  },
  {
   "cell_type": "code",
   "execution_count": 4,
   "metadata": {},
   "outputs": [],
   "source": [
    "from keyphrase_vectorizers import KeyphraseCountVectorizer\n",
    "vectorizer=KeyphraseCountVectorizer()"
   ]
  },
  {
   "cell_type": "code",
   "execution_count": 5,
   "metadata": {},
   "outputs": [
    {
     "data": {
      "text/plain": [
       "(1, 51)"
      ]
     },
     "execution_count": 5,
     "metadata": {},
     "output_type": "execute_result"
    }
   ],
   "source": [
    "document_keyphrase_matrix=vectorizer.fit_transform(docs).toarray()\n",
    "document_keyphrase_matrix.shape"
   ]
  },
  {
   "cell_type": "code",
   "execution_count": 6,
   "metadata": {},
   "outputs": [],
   "source": [
    "from keybert import KeyBERT"
   ]
  },
  {
   "cell_type": "code",
   "execution_count": 7,
   "metadata": {},
   "outputs": [],
   "source": [
    "kB=KeyBERT()"
   ]
  },
  {
   "cell_type": "code",
   "execution_count": 8,
   "metadata": {},
   "outputs": [],
   "source": [
    "import numpy"
   ]
  },
  {
   "cell_type": "code",
   "execution_count": 9,
   "metadata": {},
   "outputs": [
    {
     "data": {
      "text/plain": [
       "[('mitochondria', 0.6586),\n",
       " ('cellular metabolism', 0.541),\n",
       " ('cellular respiration', 0.5234),\n",
       " ('organelles', 0.5204),\n",
       " ('mitochondrial matrix', 0.5142)]"
      ]
     },
     "execution_count": 9,
     "metadata": {},
     "output_type": "execute_result"
    }
   ],
   "source": [
    "kB.extract_keywords(docs=docs,vectorizer=vectorizer)"
   ]
  },
  {
   "attachments": {},
   "cell_type": "markdown",
   "metadata": {},
   "source": [
    "## Answer Aware Question Generation"
   ]
  },
  {
   "cell_type": "code",
   "execution_count": 10,
   "metadata": {},
   "outputs": [],
   "source": [
    "import pandas as pd\n",
    "import json"
   ]
  },
  {
   "cell_type": "code",
   "execution_count": 11,
   "metadata": {},
   "outputs": [],
   "source": [
    "with open('../SQuAD/train-v2.0.json','r') as f:\n",
    "    data=json.load(f)"
   ]
  },
  {
   "cell_type": "code",
   "execution_count": 12,
   "metadata": {},
   "outputs": [],
   "source": [
    "contexts=[]\n",
    "answers=[]\n",
    "questions=[]"
   ]
  },
  {
   "cell_type": "code",
   "execution_count": 13,
   "metadata": {},
   "outputs": [],
   "source": [
    "for article in data['data']:\n",
    "    for paragraph in article['paragraphs']:\n",
    "        context=paragraph['context']\n",
    "        for qa in paragraph['qas']:\n",
    "            question=qa['question']\n",
    "            for answer in qa['answers']:\n",
    "                answer_text=answer['text']\n",
    "                contexts.append(context)\n",
    "                answers.append(answer_text)\n",
    "                questions.append(question)"
   ]
  },
  {
   "cell_type": "code",
   "execution_count": 14,
   "metadata": {},
   "outputs": [],
   "source": [
    "SQuAD_data={\n",
    "    'Question': questions,\n",
    "    'Answer': answers,\n",
    "    'Context': contexts\n",
    "}"
   ]
  },
  {
   "cell_type": "code",
   "execution_count": 15,
   "metadata": {},
   "outputs": [],
   "source": [
    "data=pd.DataFrame(SQuAD_data)"
   ]
  },
  {
   "cell_type": "code",
   "execution_count": 16,
   "metadata": {},
   "outputs": [
    {
     "data": {
      "text/html": [
       "<div>\n",
       "<style scoped>\n",
       "    .dataframe tbody tr th:only-of-type {\n",
       "        vertical-align: middle;\n",
       "    }\n",
       "\n",
       "    .dataframe tbody tr th {\n",
       "        vertical-align: top;\n",
       "    }\n",
       "\n",
       "    .dataframe thead th {\n",
       "        text-align: right;\n",
       "    }\n",
       "</style>\n",
       "<table border=\"1\" class=\"dataframe\">\n",
       "  <thead>\n",
       "    <tr style=\"text-align: right;\">\n",
       "      <th></th>\n",
       "      <th>Question</th>\n",
       "      <th>Answer</th>\n",
       "      <th>Context</th>\n",
       "    </tr>\n",
       "  </thead>\n",
       "  <tbody>\n",
       "    <tr>\n",
       "      <th>0</th>\n",
       "      <td>When did Beyonce start becoming popular?</td>\n",
       "      <td>in the late 1990s</td>\n",
       "      <td>Beyoncé Giselle Knowles-Carter (/biːˈjɒnseɪ/ b...</td>\n",
       "    </tr>\n",
       "    <tr>\n",
       "      <th>1</th>\n",
       "      <td>What areas did Beyonce compete in when she was...</td>\n",
       "      <td>singing and dancing</td>\n",
       "      <td>Beyoncé Giselle Knowles-Carter (/biːˈjɒnseɪ/ b...</td>\n",
       "    </tr>\n",
       "  </tbody>\n",
       "</table>\n",
       "</div>"
      ],
      "text/plain": [
       "                                            Question               Answer  \\\n",
       "0           When did Beyonce start becoming popular?    in the late 1990s   \n",
       "1  What areas did Beyonce compete in when she was...  singing and dancing   \n",
       "\n",
       "                                             Context  \n",
       "0  Beyoncé Giselle Knowles-Carter (/biːˈjɒnseɪ/ b...  \n",
       "1  Beyoncé Giselle Knowles-Carter (/biːˈjɒnseɪ/ b...  "
      ]
     },
     "execution_count": 16,
     "metadata": {},
     "output_type": "execute_result"
    }
   ],
   "source": [
    "data.head(2)"
   ]
  },
  {
   "cell_type": "code",
   "execution_count": 17,
   "metadata": {},
   "outputs": [
    {
     "data": {
      "text/plain": [
       "86821"
      ]
     },
     "execution_count": 17,
     "metadata": {},
     "output_type": "execute_result"
    }
   ],
   "source": [
    "len(data)"
   ]
  },
  {
   "cell_type": "code",
   "execution_count": 18,
   "metadata": {},
   "outputs": [],
   "source": [
    "data_sample=data[:100]"
   ]
  },
  {
   "cell_type": "code",
   "execution_count": 19,
   "metadata": {},
   "outputs": [],
   "source": [
    "import torch\n",
    "from torch.utils.data import Dataset, DataLoader\n",
    "from transformers import T5Tokenizer, T5ForConditionalGeneration, AdamW"
   ]
  },
  {
   "cell_type": "code",
   "execution_count": 20,
   "metadata": {},
   "outputs": [],
   "source": [
    "class QuestionGenerationDataset(Dataset):\n",
    "    def __init__(self, context_list, answer_list, question_list, tokenizer):\n",
    "        self.context_list = context_list\n",
    "        self.answer_list = answer_list\n",
    "        self.question_list = question_list\n",
    "        self.tokenizer = tokenizer\n",
    "\n",
    "    def __len__(self):\n",
    "        return len(self.context_list)\n",
    "\n",
    "    def __getitem__(self, idx):\n",
    "        context = self.context_list[idx]\n",
    "        answer = self.answer_list[idx]\n",
    "        question = self.question_list[idx]\n",
    "\n",
    "        input_text = f\"generate question: {context} Answer: {answer}\"\n",
    "        target_text = question\n",
    "\n",
    "        input_ids = self.tokenizer.encode(input_text, truncation=True, padding='max_length', max_length=512, return_tensors='pt')[0]\n",
    "        target_ids = self.tokenizer.encode(target_text, truncation=True, padding='max_length', max_length=32, return_tensors='pt')[0]\n",
    "\n",
    "        return {\"input_ids\": input_ids, \"attention_mask\": input_ids.ne(0), \"target_ids\": target_ids, \"target_attention_mask\": target_ids.ne(0)}\n"
   ]
  },
  {
   "cell_type": "code",
   "execution_count": 21,
   "metadata": {},
   "outputs": [],
   "source": [
    "context_list=data_sample['Context'].tolist()\n",
    "answer_list=data_sample['Answer'].tolist()\n",
    "question_list=data_sample['Question'].tolist()\n",
    "\n",
    "tokenizer=T5Tokenizer.from_pretrained('t5-base')\n",
    "dataset=QuestionGenerationDataset(context_list,answer_list,question_list,tokenizer)"
   ]
  },
  {
   "cell_type": "code",
   "execution_count": 22,
   "metadata": {},
   "outputs": [],
   "source": [
    "model=T5ForConditionalGeneration.from_pretrained('t5-base')\n",
    "epochs=3\n",
    "batch_size=2\n",
    "learning_rate=0.0001\n",
    "dataloader=DataLoader(dataset,batch_size=batch_size, shuffle=True)\n",
    "device =torch.device('cuda' if torch.cuda.is_available() else 'cpu')\n",
    "\n",
    "model.to(device)\n",
    "optimizer=AdamW(model.parameters(),lr=learning_rate)\n",
    "scheduler=torch.optim.lr_scheduler.StepLR(optimizer,step_size=1,gamma=0.1)"
   ]
  },
  {
   "cell_type": "code",
   "execution_count": 23,
   "metadata": {},
   "outputs": [],
   "source": [
    "from tqdm import tqdm"
   ]
  },
  {
   "cell_type": "code",
   "execution_count": 24,
   "metadata": {},
   "outputs": [
    {
     "name": "stderr",
     "output_type": "stream",
     "text": [
      "Epoch 0: 100%|██████████| 50/50 [18:05<00:00, 21.72s/it]\n"
     ]
    },
    {
     "name": "stdout",
     "output_type": "stream",
     "text": [
      "Epoch 1/3 - Loss: 2.189678477048874\n"
     ]
    },
    {
     "name": "stderr",
     "output_type": "stream",
     "text": [
      "Epoch 1: 100%|██████████| 50/50 [19:25<00:00, 23.31s/it]\n"
     ]
    },
    {
     "name": "stdout",
     "output_type": "stream",
     "text": [
      "Epoch 2/3 - Loss: 0.9359392833709717\n"
     ]
    },
    {
     "name": "stderr",
     "output_type": "stream",
     "text": [
      "Epoch 2: 100%|██████████| 50/50 [18:46<00:00, 22.53s/it]\n"
     ]
    },
    {
     "name": "stdout",
     "output_type": "stream",
     "text": [
      "Epoch 3/3 - Loss: 0.9229644989967346\n"
     ]
    },
    {
     "data": {
      "text/plain": [
       "('./fine_tuned_t5_tokenizer\\\\tokenizer_config.json',\n",
       " './fine_tuned_t5_tokenizer\\\\special_tokens_map.json',\n",
       " './fine_tuned_t5_tokenizer\\\\spiece.model',\n",
       " './fine_tuned_t5_tokenizer\\\\added_tokens.json')"
      ]
     },
     "execution_count": 24,
     "metadata": {},
     "output_type": "execute_result"
    }
   ],
   "source": [
    "for epoch in range(epochs):\n",
    "    model.train()\n",
    "    total_loss = 0\n",
    "    for batch in tqdm(dataloader,desc=f'Epoch {epoch}'):\n",
    "        input_ids = batch['input_ids'].to(device)\n",
    "        attention_mask = batch['attention_mask'].to(device)\n",
    "        target_ids = batch['target_ids'].to(device)\n",
    "        target_attention_mask = batch['target_attention_mask'].to(device)\n",
    "\n",
    "        outputs = model(input_ids=input_ids, attention_mask=attention_mask, labels=target_ids, decoder_attention_mask=target_attention_mask)\n",
    "\n",
    "        loss = outputs.loss\n",
    "        total_loss += loss.item()\n",
    "\n",
    "        optimizer.zero_grad()\n",
    "        loss.backward()\n",
    "        optimizer.step()\n",
    "\n",
    "    scheduler.step()\n",
    "\n",
    "    avg_loss = total_loss / len(dataloader)\n",
    "    print(f\"Epoch {epoch+1}/{epochs} - Loss: {avg_loss}\")\n",
    "\n",
    "model.save_pretrained(\"./fine_tuned_t5_model\")\n",
    "tokenizer.save_pretrained(\"./fine_tuned_t5_tokenizer\")\n"
   ]
  },
  {
   "cell_type": "code",
   "execution_count": 26,
   "metadata": {},
   "outputs": [],
   "source": [
    "def generate_question(answer,context,model,tokenizer):\n",
    "    input_text=f'generate question: {context} Answer: {answer}'\n",
    "    input_ids=tokenizer.encode(input_text, truncation=True, padding='max_length', max_length=512, return_tensors='pt').to(device)\n",
    "    output=model.generate(input_ids)\n",
    "    generated_question=tokenizer.decode(output[0],skip_special_tokens=True)\n",
    "    return generated_question"
   ]
  },
  {
   "cell_type": "code",
   "execution_count": 27,
   "metadata": {},
   "outputs": [
    {
     "name": "stderr",
     "output_type": "stream",
     "text": [
      "c:\\Users\\Prarabdh Shukla\\AppData\\Local\\Programs\\Python\\Python310\\lib\\site-packages\\transformers\\generation\\utils.py:1346: UserWarning: Using `max_length`'s default (20) to control the generation length. This behaviour is deprecated and will be removed from the config in v5 of Transformers -- we recommend using `max_new_tokens` to control the maximum length of the generation.\n",
      "  warnings.warn(\n"
     ]
    },
    {
     "name": "stdout",
     "output_type": "stream",
     "text": [
      "Mitochondria are often referred to as the \"powerhouses\"\n"
     ]
    }
   ],
   "source": [
    "extracted_keyword='mitochondria'\n",
    "print(generate_question(extracted_keyword,docs[0], model,tokenizer))"
   ]
  },
  {
   "cell_type": "code",
   "execution_count": 28,
   "metadata": {},
   "outputs": [
    {
     "name": "stderr",
     "output_type": "stream",
     "text": [
      "c:\\Users\\Prarabdh Shukla\\AppData\\Local\\Programs\\Python\\Python310\\lib\\site-packages\\transformers\\generation\\utils.py:1346: UserWarning: Using `max_length`'s default (20) to control the generation length. This behaviour is deprecated and will be removed from the config in v5 of Transformers -- we recommend using `max_new_tokens` to control the maximum length of the generation.\n",
      "  warnings.warn(\n"
     ]
    },
    {
     "name": "stdout",
     "output_type": "stream",
     "text": [
      "entailment of this article.\n"
     ]
    }
   ],
   "source": [
    "print(generate_question('cellular metabolism',docs[0],model,tokenizer))"
   ]
  },
  {
   "cell_type": "code",
   "execution_count": 29,
   "metadata": {},
   "outputs": [
    {
     "name": "stderr",
     "output_type": "stream",
     "text": [
      "c:\\Users\\Prarabdh Shukla\\AppData\\Local\\Programs\\Python\\Python310\\lib\\site-packages\\transformers\\generation\\utils.py:1346: UserWarning: Using `max_length`'s default (20) to control the generation length. This behaviour is deprecated and will be removed from the config in v5 of Transformers -- we recommend using `max_new_tokens` to control the maximum length of the generation.\n",
      "  warnings.warn(\n"
     ]
    },
    {
     "name": "stdout",
     "output_type": "stream",
     "text": [
      "adenosine triphosphate (ATP) is the most common ATP\n"
     ]
    }
   ],
   "source": [
    "print(generate_question('adenosine triphosphate', docs[0],model, tokenizer))"
   ]
  }
 ],
 "metadata": {
  "kernelspec": {
   "display_name": "Python 3",
   "language": "python",
   "name": "python3"
  },
  "language_info": {
   "codemirror_mode": {
    "name": "ipython",
    "version": 3
   },
   "file_extension": ".py",
   "mimetype": "text/x-python",
   "name": "python",
   "nbconvert_exporter": "python",
   "pygments_lexer": "ipython3",
   "version": "3.10.2"
  },
  "orig_nbformat": 4
 },
 "nbformat": 4,
 "nbformat_minor": 2
}
